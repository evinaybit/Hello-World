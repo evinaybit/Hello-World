{
 "cells": [
  {
   "cell_type": "markdown",
   "metadata": {},
   "source": [
    "## POS tagging using modified Viterbi"
   ]
  },
  {
   "cell_type": "markdown",
   "metadata": {},
   "source": [
    "### Data Preparation"
   ]
  },
  {
   "cell_type": "code",
   "execution_count": 20,
   "metadata": {},
   "outputs": [],
   "source": [
    "#Importing libraries\n",
    "import nltk"
   ]
  },
  {
   "cell_type": "code",
   "execution_count": 21,
   "metadata": {},
   "outputs": [],
   "source": [
    "# reading the Treebank tagged sentences\n",
    "nltk_data = list(nltk.corpus.treebank.tagged_sents(tagset='universal'))"
   ]
  },
  {
   "cell_type": "code",
   "execution_count": 22,
   "metadata": {},
   "outputs": [],
   "source": [
    "# Other libraries for processing\n",
    "import numpy as np\n",
    "import pandas as pd\n",
    "import matplotlib.pyplot as plt\n",
    "import seaborn as sns\n",
    "from sklearn.model_selection import train_test_split\n",
    "import random\n",
    "import warnings\n",
    "warnings.filterwarnings('ignore')"
   ]
  },
  {
   "cell_type": "markdown",
   "metadata": {},
   "source": [
    "## Understanding Data"
   ]
  },
  {
   "cell_type": "code",
   "execution_count": 23,
   "metadata": {},
   "outputs": [
    {
     "name": "stdout",
     "output_type": "stream",
     "text": [
      "[[('Pierre', 'NOUN'), ('Vinken', 'NOUN'), (',', '.'), ('61', 'NUM'), ('years', 'NOUN'), ('old', 'ADJ'), (',', '.'), ('will', 'VERB'), ('join', 'VERB'), ('the', 'DET'), ('board', 'NOUN'), ('as', 'ADP'), ('a', 'DET'), ('nonexecutive', 'ADJ'), ('director', 'NOUN'), ('Nov.', 'NOUN'), ('29', 'NUM'), ('.', '.')], [('Mr.', 'NOUN'), ('Vinken', 'NOUN'), ('is', 'VERB'), ('chairman', 'NOUN'), ('of', 'ADP'), ('Elsevier', 'NOUN'), ('N.V.', 'NOUN'), (',', '.'), ('the', 'DET'), ('Dutch', 'NOUN'), ('publishing', 'VERB'), ('group', 'NOUN'), ('.', '.')], [('Rudolph', 'NOUN'), ('Agnew', 'NOUN'), (',', '.'), ('55', 'NUM'), ('years', 'NOUN'), ('old', 'ADJ'), ('and', 'CONJ'), ('former', 'ADJ'), ('chairman', 'NOUN'), ('of', 'ADP'), ('Consolidated', 'NOUN'), ('Gold', 'NOUN'), ('Fields', 'NOUN'), ('PLC', 'NOUN'), (',', '.'), ('was', 'VERB'), ('named', 'VERB'), ('*-1', 'X'), ('a', 'DET'), ('nonexecutive', 'ADJ'), ('director', 'NOUN'), ('of', 'ADP'), ('this', 'DET'), ('British', 'ADJ'), ('industrial', 'ADJ'), ('conglomerate', 'NOUN'), ('.', '.')], [('A', 'DET'), ('form', 'NOUN'), ('of', 'ADP'), ('asbestos', 'NOUN'), ('once', 'ADV'), ('used', 'VERB'), ('*', 'X'), ('*', 'X'), ('to', 'PRT'), ('make', 'VERB'), ('Kent', 'NOUN'), ('cigarette', 'NOUN'), ('filters', 'NOUN'), ('has', 'VERB'), ('caused', 'VERB'), ('a', 'DET'), ('high', 'ADJ'), ('percentage', 'NOUN'), ('of', 'ADP'), ('cancer', 'NOUN'), ('deaths', 'NOUN'), ('among', 'ADP'), ('a', 'DET'), ('group', 'NOUN'), ('of', 'ADP'), ('workers', 'NOUN'), ('exposed', 'VERB'), ('*', 'X'), ('to', 'PRT'), ('it', 'PRON'), ('more', 'ADV'), ('than', 'ADP'), ('30', 'NUM'), ('years', 'NOUN'), ('ago', 'ADP'), (',', '.'), ('researchers', 'NOUN'), ('reported', 'VERB'), ('0', 'X'), ('*T*-1', 'X'), ('.', '.')], [('The', 'DET'), ('asbestos', 'NOUN'), ('fiber', 'NOUN'), (',', '.'), ('crocidolite', 'NOUN'), (',', '.'), ('is', 'VERB'), ('unusually', 'ADV'), ('resilient', 'ADJ'), ('once', 'ADP'), ('it', 'PRON'), ('enters', 'VERB'), ('the', 'DET'), ('lungs', 'NOUN'), (',', '.'), ('with', 'ADP'), ('even', 'ADV'), ('brief', 'ADJ'), ('exposures', 'NOUN'), ('to', 'PRT'), ('it', 'PRON'), ('causing', 'VERB'), ('symptoms', 'NOUN'), ('that', 'DET'), ('*T*-1', 'X'), ('show', 'VERB'), ('up', 'PRT'), ('decades', 'NOUN'), ('later', 'ADJ'), (',', '.'), ('researchers', 'NOUN'), ('said', 'VERB'), ('0', 'X'), ('*T*-2', 'X'), ('.', '.')]]\n"
     ]
    }
   ],
   "source": [
    "# Let's feel data how it is\n",
    "print(nltk_data[:5])"
   ]
  },
  {
   "cell_type": "code",
   "execution_count": 24,
   "metadata": {},
   "outputs": [
    {
     "data": {
      "text/plain": [
       "3914"
      ]
     },
     "execution_count": 24,
     "metadata": {},
     "output_type": "execute_result"
    }
   ],
   "source": [
    "len(nltk_data)"
   ]
  },
  {
   "cell_type": "markdown",
   "metadata": {},
   "source": [
    "#### Random Seed: (For understanding)\n",
    "Seeding a pseudo-random number generator gives it its first \"previous\" value. Each seed value will correspond to a sequence of generated values for a given random number generator. That is, `if you provide the same seed twice, you get the same sequence of numbers twice`."
   ]
  },
  {
   "cell_type": "code",
   "execution_count": 25,
   "metadata": {},
   "outputs": [
    {
     "name": "stdout",
     "output_type": "stream",
     "text": [
      "3718\n",
      "196\n",
      "[[('Mr.', 'NOUN'), ('Hahn', 'NOUN'), (',', '.'), ('the', 'DET'), ('62-year-old', 'ADJ'), ('chairman', 'NOUN'), ('and', 'CONJ'), ('chief', 'NOUN'), ('executive', 'ADJ'), ('officer', 'NOUN'), ('of', 'ADP'), ('Georgia-Pacific', 'NOUN'), ('Corp.', 'NOUN'), ('is', 'VERB'), ('leading', 'VERB'), ('the', 'DET'), ('forest-product', 'NOUN'), ('concern', 'NOUN'), (\"'s\", 'PRT'), ('unsolicited', 'ADJ'), ('$', '.'), ('3.19', 'NUM'), ('billion', 'NUM'), ('*U*', 'X'), ('bid', 'NOUN'), ('for', 'ADP'), ('Great', 'NOUN'), ('Northern', 'NOUN'), ('Nekoosa', 'NOUN'), ('Corp', 'NOUN'), ('.', '.')], [('Profit', 'NOUN'), ('surged', 'VERB'), ('42', 'NUM'), ('%', 'NOUN'), ('to', 'PRT'), ('40.21', 'NUM'), ('billion', 'NUM'), ('yen', 'NOUN'), (',', '.'), ('or', 'CONJ'), ('16.09', 'NUM'), ('yen', 'NOUN'), ('a', 'DET'), ('share', 'NOUN'), (',', '.'), ('from', 'ADP'), ('28.36', 'NUM'), ('billion', 'NUM'), ('yen', 'NOUN'), (',', '.'), ('or', 'CONJ'), ('11.72', 'NUM'), ('yen', 'NOUN'), ('a', 'DET'), ('share', 'NOUN'), ('.', '.')], [('GenCorp', 'NOUN'), ('Inc.', 'NOUN'), (',', '.'), ('hurt', 'VERB'), ('*', 'X'), ('by', 'ADP'), ('a', 'DET'), ('plant', 'NOUN'), ('accident', 'NOUN'), ('and', 'CONJ'), ('other', 'ADJ'), ('unexpected', 'ADJ'), ('costs', 'NOUN'), (',', '.'), ('said', 'VERB'), ('0', 'X'), ('it', 'PRON'), ('expects', 'VERB'), ('*-1', 'X'), ('to', 'PRT'), ('report', 'VERB'), ('that', 'ADP'), ('fiscal', 'ADJ'), ('fourth-quarter', 'NOUN'), ('profit', 'NOUN'), ('from', 'ADP'), ('continuing', 'VERB'), ('operations', 'NOUN'), ('will', 'VERB'), ('be', 'VERB'), ('significantly', 'ADV'), ('below', 'ADP'), ('last', 'ADJ'), ('year', 'NOUN'), (\"'s\", 'PRT'), ('$', '.'), ('25', 'NUM'), ('million', 'NUM'), ('*U*', 'X'), ('.', '.')], [('*-1', 'X'), ('Asked', 'VERB'), ('*-2', 'X'), ('whether', 'ADP'), ('the', 'DET'), ('bidding', 'NOUN'), ('flap', 'NOUN'), ('would', 'VERB'), ('hurt', 'VERB'), ('U.S.-Japan', 'ADJ'), ('relations', 'NOUN'), (',', '.'), ('Mr.', 'NOUN'), ('Yamamoto', 'NOUN'), ('said', 'VERB'), (',', '.'), ('``', '.'), ('this', 'DET'), ('will', 'VERB'), ('be', 'VERB'), ('a', 'DET'), ('minus', 'NOUN'), ('factor', 'NOUN'), ('.', '.'), (\"''\", '.')], [('Lorillard', 'NOUN'), ('Inc.', 'NOUN'), (',', '.'), ('the', 'DET'), ('unit', 'NOUN'), ('of', 'ADP'), ('New', 'ADJ'), ('York-based', 'ADJ'), ('Loews', 'NOUN'), ('Corp.', 'NOUN'), ('that', 'DET'), ('*T*-2', 'X'), ('makes', 'VERB'), ('Kent', 'NOUN'), ('cigarettes', 'NOUN'), (',', '.'), ('stopped', 'VERB'), ('using', 'VERB'), ('crocidolite', 'NOUN'), ('in', 'ADP'), ('its', 'PRON'), ('Micronite', 'NOUN'), ('cigarette', 'NOUN'), ('filters', 'NOUN'), ('in', 'ADP'), ('1956', 'NUM'), ('.', '.')]]\n"
     ]
    }
   ],
   "source": [
    "# Splitting into train and validation set\n",
    "random.seed(1234)\n",
    "# Splitting in validation set as per \n",
    "train_set, val_set = train_test_split(nltk_data,test_size=0.05)\n",
    "# Varification\n",
    "print(len(train_set))\n",
    "print(len(val_set))\n",
    "print(train_set[:5])"
   ]
  },
  {
   "cell_type": "code",
   "execution_count": 26,
   "metadata": {},
   "outputs": [
    {
     "name": "stdout",
     "output_type": "stream",
     "text": [
      "95533\n",
      "[('Mr.', 'NOUN'), ('Hahn', 'NOUN'), (',', '.'), ('the', 'DET'), ('62-year-old', 'ADJ')]\n"
     ]
    }
   ],
   "source": [
    "# Getting list of tagged words\n",
    "train_tagged_words=[tup for sent in train_set for tup in sent]\n",
    "print(len(train_tagged_words))\n",
    "print(train_tagged_words[:5])"
   ]
  },
  {
   "cell_type": "code",
   "execution_count": 27,
   "metadata": {},
   "outputs": [
    {
     "name": "stdout",
     "output_type": "stream",
     "text": [
      "95533\n",
      "['Mr.', 'Hahn', ',', 'the', '62-year-old']\n"
     ]
    }
   ],
   "source": [
    "# Tokenizing the data set\n",
    "tokens=[pair[0] for pair in train_tagged_words]\n",
    "print(len(tokens))\n",
    "print(tokens[:5])"
   ]
  },
  {
   "cell_type": "code",
   "execution_count": 28,
   "metadata": {},
   "outputs": [
    {
     "name": "stdout",
     "output_type": "stream",
     "text": [
      "12084\n"
     ]
    }
   ],
   "source": [
    "# Vocab by using set function which gives unique words\n",
    "vocab = set(tokens)\n",
    "print(len(vocab))"
   ]
  },
  {
   "cell_type": "markdown",
   "metadata": {},
   "source": [
    "### Data\n",
    "As per data defination in assignment, the Treebank dataset of NLTK with the 'universal' tagset. The Universal tagset of NLTK comprises only `12 coarse tag` classes as follows: `Verb, Noun, Pronouns, Adjectives, Adverbs, Adpositions, Conjunctions, Determiners, Cardinal Numbers, Particles, Other/ Foreign words, Punctuations.` which we got below"
   ]
  },
  {
   "cell_type": "code",
   "execution_count": 29,
   "metadata": {},
   "outputs": [
    {
     "data": {
      "text/plain": [
       "12"
      ]
     },
     "execution_count": 29,
     "metadata": {},
     "output_type": "execute_result"
    }
   ],
   "source": [
    "# Tags set to get unique words\n",
    "tags=set([pair[1] for pair in train_tagged_words])\n",
    "len(tags)"
   ]
  },
  {
   "cell_type": "code",
   "execution_count": 30,
   "metadata": {},
   "outputs": [
    {
     "name": "stdout",
     "output_type": "stream",
     "text": [
      "{'NUM', '.', 'NOUN', 'DET', 'ADP', 'PRON', 'ADJ', 'VERB', 'PRT', 'X', 'CONJ', 'ADV'}\n"
     ]
    }
   ],
   "source": [
    "print(tags)"
   ]
  },
  {
   "cell_type": "markdown",
   "metadata": {},
   "source": [
    "#### Emission Probabilities\n",
    "Computing `P(w/t)` and storing in `tag x vocab` matrix"
   ]
  },
  {
   "cell_type": "code",
   "execution_count": 31,
   "metadata": {},
   "outputs": [],
   "source": [
    "# Creating null matrix for `P(w/t)\n",
    "t = len(tags)\n",
    "v=len(vocab)\n",
    "w_given_t = np.zeros((t,v))"
   ]
  },
  {
   "cell_type": "code",
   "execution_count": 32,
   "metadata": {},
   "outputs": [],
   "source": [
    "# Compute word given tag (Emission probability)\n",
    "def word_given_tag(word,tag,train_bag=train_tagged_words):\n",
    "    tag_list = [pair for pair in train_bag if pair[1]==tag]\n",
    "    count_tag=len(tag_list)\n",
    "    w_given_tag_list=[pair[0] for pair in tag_list if pair[0]==word ]\n",
    "    count_w_given_tag=len(w_given_tag_list)\n",
    "    \n",
    "    return (count_w_given_tag,count_tag)\n",
    "    "
   ]
  },
  {
   "cell_type": "markdown",
   "metadata": {},
   "source": [
    "#### Transition Probability"
   ]
  },
  {
   "cell_type": "code",
   "execution_count": 33,
   "metadata": {},
   "outputs": [],
   "source": [
    "def t2_given_t1(t,t1,train_bag=train_tagged_words):\n",
    "    tags=[pair[1] for pair in train_bag]\n",
    "    count_t1=len([t for t in tags if t == t1])\n",
    "    count_t2_t1 = 0\n",
    "    for index in range(len(tags)-1):\n",
    "        if tags[index]==t1 and tags[index+1] == t2:\n",
    "            count_t2_t1 +=1\n",
    "    return(count_t2_t1, count_t1)"
   ]
  },
  {
   "cell_type": "code",
   "execution_count": 35,
   "metadata": {},
   "outputs": [],
   "source": [
    "tags_matrix = np.zeros((len(tags), len(tags)), dtype='float32')\n",
    "for i, t1 in enumerate(list(tags)):\n",
    "    for j, t2 in enumerate(list(tags)): \n",
    "        tags_matrix[i, j] = t2_given_t1(t2, t1)[0]/t2_given_t1(t2, t1)[1]"
   ]
  },
  {
   "cell_type": "code",
   "execution_count": 36,
   "metadata": {},
   "outputs": [
    {
     "data": {
      "text/plain": [
       "array([[1.82494789e-01, 1.17594525e-01, 3.55462939e-01, 2.67936895e-03,\n",
       "        3.51295024e-02, 1.48853823e-03, 3.36409658e-02, 1.78624596e-02,\n",
       "        2.73891035e-02, 2.09586188e-01, 1.36945518e-02, 2.97707645e-03],\n",
       "       [8.05000886e-02, 9.37218890e-02, 2.23241597e-01, 1.74311921e-01,\n",
       "        9.09336209e-02, 6.59291223e-02, 4.30832878e-02, 8.88649002e-02,\n",
       "        2.24860595e-03, 2.74329912e-02, 5.72045334e-02, 5.24374880e-02],\n",
       "       [9.33931675e-03, 2.40742773e-01, 2.64638275e-01, 1.32793402e-02,\n",
       "        1.75914779e-01, 4.77910321e-03, 1.22943344e-02, 1.46364599e-01,\n",
       "        4.37415652e-02, 2.90394370e-02, 4.27565575e-02, 1.71099193e-02],\n",
       "       [2.19224282e-02, 1.71043128e-02, 6.39966249e-01, 5.05902199e-03,\n",
       "        9.39532649e-03, 3.73404007e-03, 2.04649478e-01, 3.96290049e-02,\n",
       "        2.40905807e-04, 4.55311984e-02, 3.61358718e-04, 1.24066491e-02],\n",
       "       [6.35993108e-02, 3.94680388e-02, 3.20463330e-01, 3.25504065e-01,\n",
       "        1.67310163e-02, 7.00343177e-02, 1.05426855e-01, 8.25825799e-03,\n",
       "        1.39425136e-03, 3.48562859e-02, 8.58000887e-04, 1.34062637e-02],\n",
       "       [6.51840493e-03, 4.14110422e-02, 2.08588958e-01, 9.20245424e-03,\n",
       "        2.18558274e-02, 8.05214699e-03, 7.28527606e-02, 4.83512282e-01,\n",
       "        1.26533741e-02, 9.43251550e-02, 5.36809815e-03, 3.56595106e-02],\n",
       "       [2.13576164e-02, 6.42384142e-02, 6.99999988e-01, 5.13245026e-03,\n",
       "        7.68211931e-02, 6.62251667e-04, 6.68874159e-02, 1.20860925e-02,\n",
       "        1.10927150e-02, 2.06953641e-02, 1.63907278e-02, 4.63576149e-03],\n",
       "       [2.29090620e-02, 3.47130559e-02, 1.10274129e-01, 1.34192750e-01,\n",
       "        9.14032757e-02, 3.55672911e-02, 6.49996102e-02, 1.69216439e-01,\n",
       "        3.13737653e-02, 2.17286631e-01, 5.59136458e-03, 8.24726224e-02],\n",
       "       [5.70117943e-02, 4.12844047e-02, 2.47051120e-01, 1.02883354e-01,\n",
       "        2.09698565e-02, 1.80209707e-02, 8.51900429e-02, 4.01048481e-01,\n",
       "        1.63826998e-03, 1.31061599e-02, 2.29357788e-03, 9.50196572e-03],\n",
       "       [2.86669843e-03, 1.63561076e-01, 6.19525388e-02, 5.46265319e-02,\n",
       "        1.43971965e-01, 5.47857955e-02, 1.73594523e-02, 2.04491168e-01,\n",
       "        1.84265018e-01, 7.53304660e-02, 1.05112279e-02, 2.62780692e-02],\n",
       "       [4.28904444e-02, 3.49650346e-02, 3.49184155e-01, 1.21678323e-01,\n",
       "        5.40792532e-02, 5.87412603e-02, 1.13752916e-01, 1.58041954e-01,\n",
       "        5.12820529e-03, 8.85780901e-03, 4.66200465e-04, 5.22144511e-02],\n",
       "       [3.14778015e-02, 1.32869452e-01, 3.14778015e-02, 7.05765411e-02,\n",
       "        1.18290260e-01, 1.55732268e-02, 1.27567932e-01, 3.48243862e-01,\n",
       "        1.45791918e-02, 2.31941678e-02, 6.95825042e-03, 7.91915208e-02]],\n",
       "      dtype=float32)"
      ]
     },
     "execution_count": 36,
     "metadata": {},
     "output_type": "execute_result"
    }
   ],
   "source": [
    "tags_matrix"
   ]
  },
  {
   "cell_type": "code",
   "execution_count": 39,
   "metadata": {},
   "outputs": [
    {
     "data": {
      "text/html": [
       "<div>\n",
       "<style scoped>\n",
       "    .dataframe tbody tr th:only-of-type {\n",
       "        vertical-align: middle;\n",
       "    }\n",
       "\n",
       "    .dataframe tbody tr th {\n",
       "        vertical-align: top;\n",
       "    }\n",
       "\n",
       "    .dataframe thead th {\n",
       "        text-align: right;\n",
       "    }\n",
       "</style>\n",
       "<table border=\"1\" class=\"dataframe\">\n",
       "  <thead>\n",
       "    <tr style=\"text-align: right;\">\n",
       "      <th></th>\n",
       "      <th>NUM</th>\n",
       "      <th>.</th>\n",
       "      <th>NOUN</th>\n",
       "      <th>DET</th>\n",
       "      <th>ADP</th>\n",
       "      <th>PRON</th>\n",
       "      <th>ADJ</th>\n",
       "      <th>VERB</th>\n",
       "      <th>PRT</th>\n",
       "      <th>X</th>\n",
       "      <th>CONJ</th>\n",
       "      <th>ADV</th>\n",
       "    </tr>\n",
       "  </thead>\n",
       "  <tbody>\n",
       "    <tr>\n",
       "      <th>NUM</th>\n",
       "      <td>0.182495</td>\n",
       "      <td>0.117595</td>\n",
       "      <td>0.355463</td>\n",
       "      <td>0.002679</td>\n",
       "      <td>0.035130</td>\n",
       "      <td>0.001489</td>\n",
       "      <td>0.033641</td>\n",
       "      <td>0.017862</td>\n",
       "      <td>0.027389</td>\n",
       "      <td>0.209586</td>\n",
       "      <td>0.013695</td>\n",
       "      <td>0.002977</td>\n",
       "    </tr>\n",
       "    <tr>\n",
       "      <th>.</th>\n",
       "      <td>0.080500</td>\n",
       "      <td>0.093722</td>\n",
       "      <td>0.223242</td>\n",
       "      <td>0.174312</td>\n",
       "      <td>0.090934</td>\n",
       "      <td>0.065929</td>\n",
       "      <td>0.043083</td>\n",
       "      <td>0.088865</td>\n",
       "      <td>0.002249</td>\n",
       "      <td>0.027433</td>\n",
       "      <td>0.057205</td>\n",
       "      <td>0.052437</td>\n",
       "    </tr>\n",
       "    <tr>\n",
       "      <th>NOUN</th>\n",
       "      <td>0.009339</td>\n",
       "      <td>0.240743</td>\n",
       "      <td>0.264638</td>\n",
       "      <td>0.013279</td>\n",
       "      <td>0.175915</td>\n",
       "      <td>0.004779</td>\n",
       "      <td>0.012294</td>\n",
       "      <td>0.146365</td>\n",
       "      <td>0.043742</td>\n",
       "      <td>0.029039</td>\n",
       "      <td>0.042757</td>\n",
       "      <td>0.017110</td>\n",
       "    </tr>\n",
       "    <tr>\n",
       "      <th>DET</th>\n",
       "      <td>0.021922</td>\n",
       "      <td>0.017104</td>\n",
       "      <td>0.639966</td>\n",
       "      <td>0.005059</td>\n",
       "      <td>0.009395</td>\n",
       "      <td>0.003734</td>\n",
       "      <td>0.204649</td>\n",
       "      <td>0.039629</td>\n",
       "      <td>0.000241</td>\n",
       "      <td>0.045531</td>\n",
       "      <td>0.000361</td>\n",
       "      <td>0.012407</td>\n",
       "    </tr>\n",
       "    <tr>\n",
       "      <th>ADP</th>\n",
       "      <td>0.063599</td>\n",
       "      <td>0.039468</td>\n",
       "      <td>0.320463</td>\n",
       "      <td>0.325504</td>\n",
       "      <td>0.016731</td>\n",
       "      <td>0.070034</td>\n",
       "      <td>0.105427</td>\n",
       "      <td>0.008258</td>\n",
       "      <td>0.001394</td>\n",
       "      <td>0.034856</td>\n",
       "      <td>0.000858</td>\n",
       "      <td>0.013406</td>\n",
       "    </tr>\n",
       "  </tbody>\n",
       "</table>\n",
       "</div>"
      ],
      "text/plain": [
       "           NUM         .      NOUN       DET       ADP      PRON       ADJ  \\\n",
       "NUM   0.182495  0.117595  0.355463  0.002679  0.035130  0.001489  0.033641   \n",
       ".     0.080500  0.093722  0.223242  0.174312  0.090934  0.065929  0.043083   \n",
       "NOUN  0.009339  0.240743  0.264638  0.013279  0.175915  0.004779  0.012294   \n",
       "DET   0.021922  0.017104  0.639966  0.005059  0.009395  0.003734  0.204649   \n",
       "ADP   0.063599  0.039468  0.320463  0.325504  0.016731  0.070034  0.105427   \n",
       "\n",
       "          VERB       PRT         X      CONJ       ADV  \n",
       "NUM   0.017862  0.027389  0.209586  0.013695  0.002977  \n",
       ".     0.088865  0.002249  0.027433  0.057205  0.052437  \n",
       "NOUN  0.146365  0.043742  0.029039  0.042757  0.017110  \n",
       "DET   0.039629  0.000241  0.045531  0.000361  0.012407  \n",
       "ADP   0.008258  0.001394  0.034856  0.000858  0.013406  "
      ]
     },
     "execution_count": 39,
     "metadata": {},
     "output_type": "execute_result"
    }
   ],
   "source": [
    "tags_df=pd.DataFrame(tags_matrix,columns=list(tags),index=list(tags))\n",
    "tags_df.head()"
   ]
  },
  {
   "cell_type": "code",
   "execution_count": 40,
   "metadata": {},
   "outputs": [
    {
     "data": {
      "image/png": "[encoded data removed]",
      "text/plain": [
       "<Figure size 1296x864 with 2 Axes>"
      ]
     },
     "metadata": {
      "needs_background": "light"
     },
     "output_type": "display_data"
    }
   ],
   "source": [
    "plt.figure(figsize=(18, 12))\n",
    "sns.heatmap(tags_df)\n",
    "plt.show()"
   ]
  },
  {
   "cell_type": "code",
   "execution_count": 41,
   "metadata": {},
   "outputs": [
    {
     "data": {
      "text/plain": [
       "<AxesSubplot:>"
      ]
     },
     "execution_count": 41,
     "metadata": {},
     "output_type": "execute_result"
    },
    {
     "data": {
      "image/png": "[encoded data removed]",
      "text/plain": [
       "<Figure size 1296x864 with 2 Axes>"
      ]
     },
     "metadata": {
      "needs_background": "light"
     },
     "output_type": "display_data"
    }
   ],
   "source": [
    "tags_frequent=tags_df[tags_df>0.5]\n",
    "plt.figure(figsize=(18,12))\n",
    "sns.heatmap(tags_frequent)"
   ]
  },
  {
   "cell_type": "code",
   "execution_count": null,
   "metadata": {},
   "outputs": [],
   "source": []
  },
  {
   "cell_type": "code",
   "execution_count": null,
   "metadata": {},
   "outputs": [],
   "source": [
    " "
   ]
  },
  {
   "cell_type": "markdown",
   "metadata": {},
   "source": [
    "### Build the vanilla Viterbi based POS tagger"
   ]
  },
  {
   "cell_type": "code",
   "execution_count": 43,
   "metadata": {},
   "outputs": [
    {
     "data": {
      "text/plain": [
       "95533"
      ]
     },
     "execution_count": 43,
     "metadata": {},
     "output_type": "execute_result"
    }
   ],
   "source": [
    "len(train_tagged_words)"
   ]
  },
  {
   "cell_type": "code",
   "execution_count": 54,
   "metadata": {},
   "outputs": [],
   "source": [
    "# Viterbi Based POS tagger\n",
    "\n",
    "def Viterbi(words,train_bag=train_tagged_words):\n",
    "    state=[]\n",
    "    T=list(set([pair[1] for pair in train_bag]))\n",
    "    for key,word in enumerate(words):\n",
    "        p=[]\n",
    "        if key==0:\n",
    "            transition_p=tags_df.loc['.',tags]\n",
    "        else:\n",
    "            transition_p = tags_df.loc[state[-1],tags]\n",
    "            \n",
    "            #emission prob                   \n",
    "            emission_p = word_given_tag(word[key],tag)[0]/word_given_tag(word[key],tag)[1]\n",
    "            # state prob\n",
    "            state_p=emission_p*transition_p\n",
    "            p.append(state_p)\n",
    "            \n",
    "            pmax=max(p)\n",
    "            # max prob state\n",
    "            state_max=tags[p.index(pmax)]\n",
    "            state.append(state_max)\n",
    "        return list(zip(word,state))\n",
    "            "
   ]
  },
  {
   "cell_type": "code",
   "execution_count": null,
   "metadata": {},
   "outputs": [],
   "source": []
  },
  {
   "cell_type": "code",
   "execution_count": 52,
   "metadata": {},
   "outputs": [
    {
     "data": {
      "text/plain": [
       "[[('But', 'CONJ'),\n",
       "  ('with', 'ADP'),\n",
       "  ('the', 'DET'),\n",
       "  ('end', 'NOUN'),\n",
       "  ('of', 'ADP'),\n",
       "  ('the', 'DET'),\n",
       "  ('year', 'NOUN'),\n",
       "  ('in', 'ADP'),\n",
       "  ('sight', 'NOUN'),\n",
       "  (',', '.'),\n",
       "  ('money', 'NOUN'),\n",
       "  ('managers', 'NOUN'),\n",
       "  ('are', 'VERB'),\n",
       "  ('eager', 'ADJ'),\n",
       "  ('*-1', 'X'),\n",
       "  ('to', 'PRT'),\n",
       "  ('take', 'VERB'),\n",
       "  ('profits', 'NOUN'),\n",
       "  ('and', 'CONJ'),\n",
       "  ('cut', 'VERB'),\n",
       "  ('their', 'PRON'),\n",
       "  ('risks', 'NOUN'),\n",
       "  ('of', 'ADP'),\n",
       "  ('*-2', 'X'),\n",
       "  ('losing', 'VERB'),\n",
       "  ('what', 'PRON'),\n",
       "  ('for', 'ADP'),\n",
       "  ('many', 'ADJ'),\n",
       "  ('*T*-178', 'X'),\n",
       "  ('have', 'VERB'),\n",
       "  ('been', 'VERB'),\n",
       "  ('exceptionally', 'ADV'),\n",
       "  ('good', 'ADJ'),\n",
       "  ('returns', 'NOUN'),\n",
       "  ('in', 'ADP')],\n",
       " [('With', 'ADP'),\n",
       "  ('the', 'DET'),\n",
       "  ('shudders', 'NOUN'),\n",
       "  ('came', 'VERB'),\n",
       "  ('*T*-2', 'X'),\n",
       "  ('the', 'DET'),\n",
       "  ('realization', 'NOUN'),\n",
       "  ('that', 'ADP'),\n",
       "  ('some', 'DET'),\n",
       "  ('of', 'ADP'),\n",
       "  ('Wall', 'NOUN'),\n",
       "  ('Street', 'NOUN'),\n",
       "  (\"'s\", 'PRT'),\n",
       "  ('biggest', 'ADJ'),\n",
       "  ('players', 'NOUN'),\n",
       "  ('are', 'VERB'),\n",
       "  ('struggling', 'VERB'),\n",
       "  ('*-1', 'X'),\n",
       "  ('to', 'PRT'),\n",
       "  ('maintain', 'VERB'),\n",
       "  ('the', 'DET'),\n",
       "  ('stellar', 'ADJ'),\n",
       "  ('credit', 'NOUN'),\n",
       "  ('standing', 'NOUN'),\n",
       "  ('required', 'VERB'),\n",
       "  ('*', 'X'),\n",
       "  ('to', 'PRT'),\n",
       "  ('finance', 'VERB'),\n",
       "  ('their', 'PRON'),\n",
       "  ('activities', 'NOUN'),\n",
       "  ('profitably', 'ADV'),\n",
       "  ('.', '.')],\n",
       " [('The', 'DET'),\n",
       "  ('company', 'NOUN'),\n",
       "  ('said', 'VERB'),\n",
       "  ('0', 'X'),\n",
       "  ('holders', 'NOUN'),\n",
       "  ('of', 'ADP'),\n",
       "  ('stock', 'NOUN'),\n",
       "  ('of', 'ADP'),\n",
       "  ('record', 'NOUN'),\n",
       "  ('Nov.', 'NOUN'),\n",
       "  ('10', 'NUM'),\n",
       "  ('will', 'VERB'),\n",
       "  ('receive', 'VERB'),\n",
       "  ('1\\\\/10th', 'NOUN'),\n",
       "  ('of', 'ADP'),\n",
       "  ('one', 'NUM'),\n",
       "  ('cent', 'NOUN'),\n",
       "  ('a', 'DET'),\n",
       "  ('share', 'NOUN'),\n",
       "  ('as', 'ADP'),\n",
       "  ('the', 'DET'),\n",
       "  ('redemption', 'NOUN'),\n",
       "  ('payment', 'NOUN'),\n",
       "  ('.', '.')],\n",
       " [('Partly', 'ADV'),\n",
       "  ('*-1', 'X'),\n",
       "  ('to', 'PRT'),\n",
       "  ('help', 'VERB'),\n",
       "  ('*-2', 'X'),\n",
       "  ('clear', 'VERB'),\n",
       "  ('the', 'DET'),\n",
       "  ('myriad', 'ADJ'),\n",
       "  ('obstacles', 'NOUN'),\n",
       "  ('facing', 'VERB'),\n",
       "  ('any', 'DET'),\n",
       "  ('overseas', 'ADJ'),\n",
       "  ('company', 'NOUN'),\n",
       "  ('trying', 'VERB'),\n",
       "  ('*', 'X'),\n",
       "  ('to', 'PRT'),\n",
       "  ('penetrate', 'VERB'),\n",
       "  ('Japan', 'NOUN'),\n",
       "  (',', '.'),\n",
       "  ('tiny', 'ADJ'),\n",
       "  ('Candela', 'NOUN'),\n",
       "  ('turned', 'VERB'),\n",
       "  ('to', 'PRT'),\n",
       "  ('Mitsui', 'NOUN'),\n",
       "  ('&', 'CONJ'),\n",
       "  ('Co.', 'NOUN'),\n",
       "  (',', '.'),\n",
       "  ('one', 'NUM'),\n",
       "  ('of', 'ADP'),\n",
       "  ('Japan', 'NOUN'),\n",
       "  (\"'s\", 'PRT'),\n",
       "  ('largest', 'ADJ'),\n",
       "  ('trading', 'VERB'),\n",
       "  ('companies', 'NOUN'),\n",
       "  (',', '.'),\n",
       "  ('for', 'ADP'),\n",
       "  ('investment', 'NOUN'),\n",
       "  ('.', '.')],\n",
       " [('``', '.'),\n",
       "  ('And', 'CONJ'),\n",
       "  ('recessionary', 'ADJ'),\n",
       "  ('environments', 'NOUN'),\n",
       "  ('are', 'VERB'),\n",
       "  (\"n't\", 'ADV'),\n",
       "  ('hospitable', 'ADJ'),\n",
       "  ('to', 'PRT'),\n",
       "  ('the', 'DET'),\n",
       "  ('stock', 'NOUN'),\n",
       "  ('market', 'NOUN'),\n",
       "  ('.', '.'),\n",
       "  (\"''\", '.')]]"
      ]
     },
     "execution_count": 52,
     "metadata": {},
     "output_type": "execute_result"
    }
   ],
   "source": [
    "random.seed(1234)\n",
    "\n",
    "# choose random 5 sents\n",
    "rndom = [random.randint(1,len(val_set)) for x in range(5)]\n",
    "\n",
    "# list of sents\n",
    "val_run = [val_set[i] for i in rndom]\n",
    "\n",
    "# list of tagged words\n",
    "val_run_base = [tup for sent in val_run for tup in sent]\n",
    "\n",
    "# list of untagged words\n",
    "val_tagged_words = [tup[0] for sent in val_run for tup in sent]\n",
    "val_run"
   ]
  },
  {
   "cell_type": "code",
   "execution_count": 55,
   "metadata": {},
   "outputs": [],
   "source": [
    "tagged_seq = Viterbi(val_tagged_words)"
   ]
  },
  {
   "cell_type": "code",
   "execution_count": 56,
   "metadata": {},
   "outputs": [
    {
     "name": "stdout",
     "output_type": "stream",
     "text": [
      "[] [('But', 'CONJ'), ('with', 'ADP'), ('the', 'DET'), ('end', 'NOUN'), ('of', 'ADP'), ('the', 'DET'), ('year', 'NOUN'), ('in', 'ADP'), ('sight', 'NOUN'), (',', '.'), ('money', 'NOUN'), ('managers', 'NOUN'), ('are', 'VERB'), ('eager', 'ADJ'), ('*-1', 'X'), ('to', 'PRT'), ('take', 'VERB'), ('profits', 'NOUN'), ('and', 'CONJ'), ('cut', 'VERB'), ('their', 'PRON'), ('risks', 'NOUN'), ('of', 'ADP'), ('*-2', 'X'), ('losing', 'VERB'), ('what', 'PRON'), ('for', 'ADP'), ('many', 'ADJ'), ('*T*-178', 'X'), ('have', 'VERB'), ('been', 'VERB'), ('exceptionally', 'ADV'), ('good', 'ADJ'), ('returns', 'NOUN'), ('in', 'ADP'), ('With', 'ADP'), ('the', 'DET'), ('shudders', 'NOUN'), ('came', 'VERB'), ('*T*-2', 'X'), ('the', 'DET'), ('realization', 'NOUN'), ('that', 'ADP'), ('some', 'DET'), ('of', 'ADP'), ('Wall', 'NOUN'), ('Street', 'NOUN'), (\"'s\", 'PRT'), ('biggest', 'ADJ'), ('players', 'NOUN'), ('are', 'VERB'), ('struggling', 'VERB'), ('*-1', 'X'), ('to', 'PRT'), ('maintain', 'VERB'), ('the', 'DET'), ('stellar', 'ADJ'), ('credit', 'NOUN'), ('standing', 'NOUN'), ('required', 'VERB'), ('*', 'X'), ('to', 'PRT'), ('finance', 'VERB'), ('their', 'PRON'), ('activities', 'NOUN'), ('profitably', 'ADV'), ('.', '.'), ('The', 'DET'), ('company', 'NOUN'), ('said', 'VERB'), ('0', 'X'), ('holders', 'NOUN'), ('of', 'ADP'), ('stock', 'NOUN'), ('of', 'ADP'), ('record', 'NOUN'), ('Nov.', 'NOUN'), ('10', 'NUM'), ('will', 'VERB'), ('receive', 'VERB'), ('1\\\\/10th', 'NOUN'), ('of', 'ADP'), ('one', 'NUM'), ('cent', 'NOUN'), ('a', 'DET'), ('share', 'NOUN'), ('as', 'ADP'), ('the', 'DET'), ('redemption', 'NOUN'), ('payment', 'NOUN'), ('.', '.'), ('Partly', 'ADV'), ('*-1', 'X'), ('to', 'PRT'), ('help', 'VERB'), ('*-2', 'X'), ('clear', 'VERB'), ('the', 'DET'), ('myriad', 'ADJ'), ('obstacles', 'NOUN'), ('facing', 'VERB'), ('any', 'DET'), ('overseas', 'ADJ'), ('company', 'NOUN'), ('trying', 'VERB'), ('*', 'X'), ('to', 'PRT'), ('penetrate', 'VERB'), ('Japan', 'NOUN'), (',', '.'), ('tiny', 'ADJ'), ('Candela', 'NOUN'), ('turned', 'VERB'), ('to', 'PRT'), ('Mitsui', 'NOUN'), ('&', 'CONJ'), ('Co.', 'NOUN'), (',', '.'), ('one', 'NUM'), ('of', 'ADP'), ('Japan', 'NOUN'), (\"'s\", 'PRT'), ('largest', 'ADJ'), ('trading', 'VERB'), ('companies', 'NOUN'), (',', '.'), ('for', 'ADP'), ('investment', 'NOUN'), ('.', '.'), ('``', '.'), ('And', 'CONJ'), ('recessionary', 'ADJ'), ('environments', 'NOUN'), ('are', 'VERB'), (\"n't\", 'ADV'), ('hospitable', 'ADJ'), ('to', 'PRT'), ('the', 'DET'), ('stock', 'NOUN'), ('market', 'NOUN'), ('.', '.'), (\"''\", '.')]\n"
     ]
    }
   ],
   "source": [
    "print(tagged_seq,val_run_base)"
   ]
  },
  {
   "cell_type": "code",
   "execution_count": null,
   "metadata": {},
   "outputs": [],
   "source": []
  },
  {
   "cell_type": "code",
   "execution_count": null,
   "metadata": {},
   "outputs": [],
   "source": []
  },
  {
   "cell_type": "markdown",
   "metadata": {},
   "source": [
    "### Solve the problem of unknown words"
   ]
  },
  {
   "cell_type": "code",
   "execution_count": null,
   "metadata": {},
   "outputs": [],
   "source": []
  },
  {
   "cell_type": "code",
   "execution_count": null,
   "metadata": {},
   "outputs": [],
   "source": []
  },
  {
   "cell_type": "markdown",
   "metadata": {},
   "source": [
    "#### Evaluating tagging accuracy"
   ]
  },
  {
   "cell_type": "code",
   "execution_count": null,
   "metadata": {},
   "outputs": [],
   "source": []
  },
  {
   "cell_type": "code",
   "execution_count": null,
   "metadata": {},
   "outputs": [],
   "source": []
  },
  {
   "cell_type": "markdown",
   "metadata": {},
   "source": [
    "### Compare the tagging accuracies of the modifications with the vanilla Viterbi algorithm"
   ]
  },
  {
   "cell_type": "code",
   "execution_count": null,
   "metadata": {},
   "outputs": [],
   "source": []
  },
  {
   "cell_type": "code",
   "execution_count": null,
   "metadata": {},
   "outputs": [],
   "source": []
  },
  {
   "cell_type": "code",
   "execution_count": null,
   "metadata": {},
   "outputs": [],
   "source": []
  },
  {
   "cell_type": "markdown",
   "metadata": {},
   "source": [
    "### List down cases which were incorrectly tagged by original POS tagger and got corrected by your modifications"
   ]
  },
  {
   "cell_type": "code",
   "execution_count": null,
   "metadata": {},
   "outputs": [],
   "source": []
  },
  {
   "cell_type": "code",
   "execution_count": null,
   "metadata": {},
   "outputs": [],
   "source": []
  },
  {
   "cell_type": "code",
   "execution_count": null,
   "metadata": {},
   "outputs": [],
   "source": []
  }
 ],
 "metadata": {
  "kernelspec": {
   "display_name": "Python 3",
   "language": "python",
   "name": "python3"
  },
  "language_info": {
   "codemirror_mode": {
    "name": "ipython",
    "version": 3
   },
   "file_extension": ".py",
   "mimetype": "text/x-python",
   "name": "python",
   "nbconvert_exporter": "python",
   "pygments_lexer": "ipython3",
   "version": "3.7.6"
  }
 },
 "nbformat": 4,
 "nbformat_minor": 2
}
